{
 "cells": [
  {
   "cell_type": "markdown",
   "id": "c6731718",
   "metadata": {},
   "source": [
    "# Derivation Of Local Dynamical Indices\n",
    "#### 150751"
   ]
  },
  {
   "cell_type": "markdown",
   "id": "ee8ac9fc",
   "metadata": {},
   "source": [
    "Suppose the state of interest in the Lorenz system is $\\varsigma_{\\textbf{x}} = \\textbf{x}(t=t_{\\varsigma})$. To analyse growth rates of trajectories, $\\textbf{x}(t)$, being within a neighborhood of $\\varsigma_{\\textbf{x}}$, I can calculate the negative logarithmic returns: \n",
    "\n",
    "$$g(\\varsigma_{\\textbf{x}}, \\textbf{x}(t)) = -\\text{log}\\left[ \\text{dist}(\\varsigma_{\\textbf{x}}, \\textbf{x}(t)) \\right]$$\n",
    "\n",
    "The trajectory, $\\textbf{x}(t)$, falls within a neighborhood of $\\varsigma_{\\textbf{x}}$ when the time series $g(\\varsigma_{\\textbf{x}}, \\textbf{x}(t))$ is above a given threshold $s(q, \\varsigma_{\\textbf{x}})$, which is the qth quantile $g(\\varsigma_{\\textbf{x}}, \\textbf{x}(t))$.The exceedances of the neighbouring states of $\\varsigma_{\\textbf{x}}$ is given as:\n",
    "\n",
    "$$U(\\varsigma_{\\textbf{x}}) = g(\\varsigma_{\\textbf{x}}, \\textbf{x}(t)) - s(q, \\varsigma_{\\textbf{x}}), \\space\\space\\space\\space\\space\\space\\space \\forall g(\\varsigma_{\\textbf{x}}, \\textbf{x}(t)) > s(q, \\varsigma_{\\textbf{x}})$$\n",
    "\n",
    "The interpretation of the above quantities for the idealised Lorenz '63 attractor is illustrated graphically below:"
   ]
  },
  {
   "cell_type": "markdown",
   "id": "dbf12a49",
   "metadata": {},
   "source": [
    "<img src=\"Lorenz_Deriving_Local_Indices.png\" alt=\"Lorenz Plot\" style=\"width: 100%;\"/>"
   ]
  },
  {
   "cell_type": "markdown",
   "id": "53492272",
   "metadata": {},
   "source": [
    "According to extreme value theory (Reference), assuming the independence of the exceedances, the cumulative probability distribution, $F(U,\\varsigma_{\\textbf{x}})$, converges to the exponential member of the generalised Pareto distribution with:\n",
    "\n",
    "$$ F(U,\\varsigma_{\\textbf{x}}) \\sim \\text{exp}\\left[ -\\theta \\frac{U(\\varsigma_{\\textbf{x}})}{\\sigma(\\varsigma_{\\textbf{x}})} \\right]  $$\n",
    "\n",
    "U and $\\sigma$ are parameters of the distribution which depend on the state $\\varsigma_{\\textbf{x}}$. The $\\textbf{Extremal Index}$ is given by $\\theta$, while the $\\textbf{Local Dimension}$ is given by:\n",
    "\n",
    "$$ d(\\varsigma_{\\textbf{x}}) = \\frac{1}{\\sigma(\\varsigma_{\\textbf{x}})} $$"
   ]
  },
  {
   "cell_type": "markdown",
   "id": "5824999b",
   "metadata": {},
   "source": [
    "Finally, we define the co-recurrence ratio by considering two trajectories $\\textbf{x}(t)$, and $\\textbf{y}(t)$ and a corresponding joint state of interest, $ \\varsigma = (\\varsigma_{\\textbf{x}},\\varsigma_{\\textbf{y}})$. The $\\textbf{Predictability}$  is then given by:\n",
    "\n",
    "$$\\alpha(\\varsigma) = \\frac{\\nu[g(\\textbf{x}(t))\\gt s_{\\textbf{x}}(q)|g(\\textbf{y}(t))\\gt s_{\\textbf{y}}(q)]}{\\nu[g(\\textbf{x}(t))\\gt s_{\\textbf{x}}(q)]}$$\n",
    "\n",
    "$\\nu[...]$ is the number of events satisfying the condition $[...]$"
   ]
  },
  {
   "cell_type": "markdown",
   "id": "08b6d8a7",
   "metadata": {},
   "source": [
    "This derivation is written with the help of:\n",
    " \n",
    "**Characterising and comparing different palaeoclimates with dynamical systems theory**  \n",
    "D. Faranda and G. Messori  \n",
    "*European Geosciences Union*, 17(1): 545–563, 2021\n",
    "[https://cp.copernicus.org/articles/17/545/2021/#section2](https://cp.copernicus.org/articles/17/545/2021/#section2)"
   ]
  },
  {
   "cell_type": "code",
   "execution_count": null,
   "id": "6727a61c",
   "metadata": {},
   "outputs": [],
   "source": []
  }
 ],
 "metadata": {
  "kernelspec": {
   "display_name": "Python 3",
   "language": "python",
   "name": "python3"
  },
  "language_info": {
   "codemirror_mode": {
    "name": "ipython",
    "version": 3
   },
   "file_extension": ".py",
   "mimetype": "text/x-python",
   "name": "python",
   "nbconvert_exporter": "python",
   "pygments_lexer": "ipython3",
   "version": "3.8.8"
  }
 },
 "nbformat": 4,
 "nbformat_minor": 5
}
